{
 "cells": [
  {
   "cell_type": "code",
   "execution_count": 2,
   "metadata": {},
   "outputs": [],
   "source": [
    "import torch\n",
    "import numpy as np"
   ]
  },
  {
   "cell_type": "markdown",
   "metadata": {},
   "source": [
    "### Basic tensor concepts"
   ]
  },
  {
   "cell_type": "code",
   "execution_count": 115,
   "metadata": {},
   "outputs": [
    {
     "data": {
      "text/plain": [
       "tensor([0., 0., 0., 0.])"
      ]
     },
     "execution_count": 115,
     "metadata": {},
     "output_type": "execute_result"
    }
   ],
   "source": [
    "#1-d tensor\n",
    "torch.zeros(4)"
   ]
  },
  {
   "cell_type": "code",
   "execution_count": 113,
   "metadata": {},
   "outputs": [
    {
     "data": {
      "text/plain": [
       "tensor([[0.9762, 0.6915, 0.8543, 0.9701]])"
      ]
     },
     "execution_count": 113,
     "metadata": {},
     "output_type": "execute_result"
    }
   ],
   "source": [
    "#2-d tensor\n",
    "torch.rand(1, 4)"
   ]
  },
  {
   "cell_type": "code",
   "execution_count": 114,
   "metadata": {},
   "outputs": [
    {
     "data": {
      "text/plain": [
       "tensor([[0.0233, 0.6764, 0.0156, 0.2080],\n",
       "        [0.9866, 0.0606, 0.2551, 0.0233]])"
      ]
     },
     "execution_count": 114,
     "metadata": {},
     "output_type": "execute_result"
    }
   ],
   "source": [
    "#2-d tensor\n",
    "torch.rand(2, 4)"
   ]
  },
  {
   "cell_type": "code",
   "execution_count": 116,
   "metadata": {},
   "outputs": [
    {
     "data": {
      "text/plain": [
       "tensor([[[0.6308, 0.6515, 0.7228, 0.4125]]])"
      ]
     },
     "execution_count": 116,
     "metadata": {},
     "output_type": "execute_result"
    }
   ],
   "source": [
    "#3-d tensor\n",
    "torch.rand(1, 1, 4)"
   ]
  },
  {
   "cell_type": "code",
   "execution_count": 118,
   "metadata": {},
   "outputs": [
    {
     "data": {
      "text/plain": [
       "tensor([[[0.9901, 0.4289, 0.2375, 0.3448],\n",
       "         [0.8833, 0.0459, 0.6079, 0.4037],\n",
       "         [0.6414, 0.4347, 0.1760, 0.0192]],\n",
       "\n",
       "        [[0.5089, 0.0767, 0.6033, 0.0223],\n",
       "         [0.8928, 0.7115, 0.2929, 0.8741],\n",
       "         [0.8262, 0.4738, 0.5560, 0.7393]]])"
      ]
     },
     "execution_count": 118,
     "metadata": {},
     "output_type": "execute_result"
    }
   ],
   "source": [
    "#3-d tensor\n",
    "torch.rand(2, 3, 4)"
   ]
  },
  {
   "cell_type": "code",
   "execution_count": 121,
   "metadata": {},
   "outputs": [
    {
     "data": {
      "text/plain": [
       "tensor([[[[0.1224, 0.3894, 0.1016, 0.4055]]]])"
      ]
     },
     "execution_count": 121,
     "metadata": {},
     "output_type": "execute_result"
    }
   ],
   "source": [
    "#4-d tensor\n",
    "torch.rand(1, 1, 1, 4)"
   ]
  },
  {
   "cell_type": "code",
   "execution_count": 125,
   "metadata": {},
   "outputs": [
    {
     "data": {
      "text/plain": [
       "tensor([[[[0., 0., 0., 0.],\n",
       "          [0., 0., 0., 0.]],\n",
       "\n",
       "         [[0., 0., 0., 0.],\n",
       "          [0., 0., 0., 0.]],\n",
       "\n",
       "         [[0., 0., 0., 0.],\n",
       "          [0., 0., 0., 0.]]],\n",
       "\n",
       "\n",
       "        [[[0., 0., 0., 0.],\n",
       "          [0., 0., 0., 0.]],\n",
       "\n",
       "         [[0., 0., 0., 0.],\n",
       "          [0., 0., 0., 0.]],\n",
       "\n",
       "         [[0., 0., 0., 0.],\n",
       "          [0., 0., 0., 0.]]],\n",
       "\n",
       "\n",
       "        [[[0., 0., 0., 0.],\n",
       "          [0., 0., 0., 0.]],\n",
       "\n",
       "         [[0., 0., 0., 0.],\n",
       "          [0., 0., 0., 0.]],\n",
       "\n",
       "         [[0., 0., 0., 0.],\n",
       "          [0., 0., 0., 0.]]],\n",
       "\n",
       "\n",
       "        [[[0., 0., 0., 0.],\n",
       "          [0., 0., 0., 0.]],\n",
       "\n",
       "         [[0., 0., 0., 0.],\n",
       "          [0., 0., 0., 0.]],\n",
       "\n",
       "         [[0., 0., 0., 0.],\n",
       "          [0., 0., 0., 0.]]],\n",
       "\n",
       "\n",
       "        [[[0., 0., 0., 0.],\n",
       "          [0., 0., 0., 0.]],\n",
       "\n",
       "         [[0., 0., 0., 0.],\n",
       "          [0., 0., 0., 0.]],\n",
       "\n",
       "         [[0., 0., 0., 0.],\n",
       "          [0., 0., 0., 0.]]]])"
      ]
     },
     "execution_count": 125,
     "metadata": {},
     "output_type": "execute_result"
    }
   ],
   "source": [
    "#4-d tensor\n",
    "torch.zeros(5,3,2,4)"
   ]
  },
  {
   "cell_type": "markdown",
   "metadata": {},
   "source": [
    "### Indexing tensors"
   ]
  },
  {
   "cell_type": "code",
   "execution_count": 142,
   "metadata": {},
   "outputs": [
    {
     "data": {
      "text/plain": [
       "tensor([[8.4411, 3.1186, 9.3986, 1.5405],\n",
       "        [9.8858, 7.9934, 4.5518, 5.2520],\n",
       "        [3.9284, 5.1998, 3.9715, 7.3187],\n",
       "        [9.0004, 2.9226, 8.3042, 1.3898],\n",
       "        [1.8537, 1.2443, 0.5550, 3.2094]])"
      ]
     },
     "execution_count": 142,
     "metadata": {},
     "output_type": "execute_result"
    }
   ],
   "source": [
    "tensor = torch.rand(5, 4)*10 #multiplying with 10 because it is easy to visualize\n",
    "tensor"
   ]
  },
  {
   "cell_type": "code",
   "execution_count": 143,
   "metadata": {},
   "outputs": [
    {
     "data": {
      "text/plain": [
       "tensor([9.3986, 4.5518, 3.9715, 8.3042, 0.5550])"
      ]
     },
     "execution_count": 143,
     "metadata": {},
     "output_type": "execute_result"
    }
   ],
   "source": [
    "tensor[:, 2]#2nd indexed column"
   ]
  },
  {
   "cell_type": "code",
   "execution_count": 138,
   "metadata": {},
   "outputs": [
    {
     "data": {
      "text/plain": [
       "tensor(3.5128)"
      ]
     },
     "execution_count": 138,
     "metadata": {},
     "output_type": "execute_result"
    }
   ],
   "source": [
    "tensor[1, 2]"
   ]
  },
  {
   "cell_type": "code",
   "execution_count": null,
   "metadata": {},
   "outputs": [],
   "source": []
  },
  {
   "cell_type": "code",
   "execution_count": 139,
   "metadata": {},
   "outputs": [
    {
     "data": {
      "text/plain": [
       "tensor([[[2.1061, 3.0881, 8.7027, 2.9360],\n",
       "         [2.0008, 1.4596, 2.8642, 2.1212]],\n",
       "\n",
       "        [[3.7865, 2.9654, 8.8403, 8.9732],\n",
       "         [8.0782, 6.2419, 2.8244, 4.2657]],\n",
       "\n",
       "        [[3.5661, 1.1549, 5.1745, 7.7361],\n",
       "         [8.2555, 7.6453, 5.2620, 4.2200]]])"
      ]
     },
     "execution_count": 139,
     "metadata": {},
     "output_type": "execute_result"
    }
   ],
   "source": [
    "tensor1 = torch.rand(3, 2, 4)*10\n",
    "tensor1"
   ]
  },
  {
   "cell_type": "code",
   "execution_count": 144,
   "metadata": {},
   "outputs": [
    {
     "data": {
      "text/plain": [
       "tensor([2.1212, 4.2657, 4.2200])"
      ]
     },
     "execution_count": 144,
     "metadata": {},
     "output_type": "execute_result"
    }
   ],
   "source": [
    "tensor1[:, 1, 3]# 3rd indexed column and first index of each row"
   ]
  },
  {
   "cell_type": "code",
   "execution_count": 146,
   "metadata": {},
   "outputs": [
    {
     "data": {
      "text/plain": [
       "tensor([[8.4411, 3.1186, 9.3986, 1.5405, 8.4411, 3.1186, 9.3986, 1.5405],\n",
       "        [9.8858, 7.9934, 4.5518, 5.2520, 9.8858, 7.9934, 4.5518, 5.2520],\n",
       "        [3.9284, 5.1998, 3.9715, 7.3187, 3.9284, 5.1998, 3.9715, 7.3187],\n",
       "        [9.0004, 2.9226, 8.3042, 1.3898, 9.0004, 2.9226, 8.3042, 1.3898],\n",
       "        [1.8537, 1.2443, 0.5550, 3.2094, 1.8537, 1.2443, 0.5550, 3.2094]])"
      ]
     },
     "execution_count": 146,
     "metadata": {},
     "output_type": "execute_result"
    }
   ],
   "source": [
    "torch.cat([tensor,tensor], dim=1)"
   ]
  },
  {
   "cell_type": "code",
   "execution_count": 40,
   "metadata": {},
   "outputs": [
    {
     "data": {
      "text/plain": [
       "tensor([[[0.8677, 0.8819, 0.4480, 0.9139],\n",
       "         [0.6970, 0.0644, 0.5178, 0.1507],\n",
       "         [0.6624, 0.0799, 0.1040, 0.3082],\n",
       "         [0.9845, 0.3536, 0.0063, 0.5502],\n",
       "         [0.0522, 0.7002, 0.8409, 0.7145]],\n",
       "\n",
       "        [[0.6454, 0.3798, 0.1844, 0.6193],\n",
       "         [0.3253, 0.1867, 0.4642, 0.8126],\n",
       "         [0.7502, 0.8258, 0.1274, 0.8813],\n",
       "         [0.6805, 0.1756, 0.4904, 0.3681],\n",
       "         [0.8669, 0.5823, 0.8548, 0.4905]],\n",
       "\n",
       "        [[0.6189, 0.7849, 0.4686, 0.4055],\n",
       "         [0.1762, 0.8459, 0.4673, 0.1757],\n",
       "         [0.5000, 0.5959, 0.4824, 0.6886],\n",
       "         [0.2114, 0.3571, 0.3556, 0.9552],\n",
       "         [0.3899, 0.7633, 0.2842, 0.3313]]])"
      ]
     },
     "execution_count": 40,
     "metadata": {},
     "output_type": "execute_result"
    }
   ],
   "source": [
    "tensor1"
   ]
  },
  {
   "cell_type": "markdown",
   "metadata": {},
   "source": [
    "### Now the \"difficult\" concept - matrix multiplication"
   ]
  },
  {
   "cell_type": "code",
   "execution_count": 152,
   "metadata": {},
   "outputs": [],
   "source": [
    "a = [[1,2],[5,6]]"
   ]
  },
  {
   "cell_type": "code",
   "execution_count": 153,
   "metadata": {},
   "outputs": [],
   "source": [
    "b = [9, 0]"
   ]
  },
  {
   "cell_type": "code",
   "execution_count": 154,
   "metadata": {},
   "outputs": [],
   "source": [
    "tensor_a = torch.tensor(a)\n",
    "tensor_b = torch.tensor(b)"
   ]
  },
  {
   "cell_type": "code",
   "execution_count": 155,
   "metadata": {},
   "outputs": [
    {
     "data": {
      "text/plain": [
       "tensor([ 9, 45])"
      ]
     },
     "execution_count": 155,
     "metadata": {},
     "output_type": "execute_result"
    }
   ],
   "source": [
    "tensor_a.matmul(tensor_b)"
   ]
  },
  {
   "cell_type": "markdown",
   "metadata": {},
   "source": [
    "#### Multi dimensional matrix multiplication"
   ]
  },
  {
   "cell_type": "code",
   "execution_count": 156,
   "metadata": {},
   "outputs": [],
   "source": [
    "m = [[1, 1], [1, 1]]"
   ]
  },
  {
   "cell_type": "code",
   "execution_count": 157,
   "metadata": {},
   "outputs": [],
   "source": [
    "c = [[ m,m,m ]]"
   ]
  },
  {
   "cell_type": "code",
   "execution_count": 158,
   "metadata": {},
   "outputs": [],
   "source": [
    "d = [[ m, m, m],\n",
    "     [ m, m, m],\n",
    "    [m, m, m]]"
   ]
  },
  {
   "cell_type": "code",
   "execution_count": 159,
   "metadata": {},
   "outputs": [],
   "source": [
    "tensor_c = torch.tensor(c)\n",
    "tensor_d = torch.tensor(d)"
   ]
  },
  {
   "cell_type": "code",
   "execution_count": 160,
   "metadata": {},
   "outputs": [
    {
     "data": {
      "text/plain": [
       "(torch.Size([1, 3, 2, 2]), torch.Size([3, 3, 2, 2]))"
      ]
     },
     "execution_count": 160,
     "metadata": {},
     "output_type": "execute_result"
    }
   ],
   "source": [
    "tensor_c.shape, tensor_d.shape"
   ]
  },
  {
   "cell_type": "code",
   "execution_count": 161,
   "metadata": {},
   "outputs": [
    {
     "data": {
      "text/plain": [
       "torch.Size([3, 3, 2, 2])"
      ]
     },
     "execution_count": 161,
     "metadata": {},
     "output_type": "execute_result"
    }
   ],
   "source": [
    "tensor_c.matmul(tensor_d).shape"
   ]
  },
  {
   "cell_type": "code",
   "execution_count": 162,
   "metadata": {},
   "outputs": [
    {
     "data": {
      "text/plain": [
       "tensor([[[[2, 2],\n",
       "          [2, 2]],\n",
       "\n",
       "         [[2, 2],\n",
       "          [2, 2]],\n",
       "\n",
       "         [[2, 2],\n",
       "          [2, 2]]],\n",
       "\n",
       "\n",
       "        [[[2, 2],\n",
       "          [2, 2]],\n",
       "\n",
       "         [[2, 2],\n",
       "          [2, 2]],\n",
       "\n",
       "         [[2, 2],\n",
       "          [2, 2]]],\n",
       "\n",
       "\n",
       "        [[[2, 2],\n",
       "          [2, 2]],\n",
       "\n",
       "         [[2, 2],\n",
       "          [2, 2]],\n",
       "\n",
       "         [[2, 2],\n",
       "          [2, 2]]]])"
      ]
     },
     "execution_count": 162,
     "metadata": {},
     "output_type": "execute_result"
    }
   ],
   "source": [
    "tensor_d.matmul(tensor_c)"
   ]
  },
  {
   "cell_type": "code",
   "execution_count": null,
   "metadata": {},
   "outputs": [],
   "source": []
  }
 ],
 "metadata": {
  "kernelspec": {
   "display_name": "fast_ai_venv",
   "language": "python",
   "name": "fast_ai_venv"
  },
  "language_info": {
   "codemirror_mode": {
    "name": "ipython",
    "version": 3
   },
   "file_extension": ".py",
   "mimetype": "text/x-python",
   "name": "python",
   "nbconvert_exporter": "python",
   "pygments_lexer": "ipython3",
   "version": "3.8.6"
  }
 },
 "nbformat": 4,
 "nbformat_minor": 4
}
